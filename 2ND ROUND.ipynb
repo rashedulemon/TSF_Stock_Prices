{
 "cells": [
  {
   "cell_type": "markdown",
   "id": "a5450f64",
   "metadata": {},
   "source": [
    "# Question number -1 "
   ]
  },
  {
   "cell_type": "markdown",
   "id": "063957eb",
   "metadata": {},
   "source": [
    "### Given an AVL tree storing numeric values, design an algorithm to efficiently return the sum of all values within a given range [L, R]. Follow-up: How would your approach scale if each tree update must propagate features for downstream ML models?"
   ]
  },
  {
   "cell_type": "markdown",
   "id": "7b45ecfe",
   "metadata": {},
   "source": [
    "Solution: We have an AVL tree which stores numeric values. The range is L and R. \n",
    "\n",
    "AVL tree is basically a self balancing binary search tree. \n",
    "\n",
    "Algorithm: \n",
    "\n",
    "1. Check if the node has any child.\n",
    "2. Check node is less the L value. If so then ignore these node. go right\n",
    "3. Check node is greater then R value. If so then also ignore these node. go left \n",
    "4. Then sum the rest of the node.\n"
   ]
  },
  {
   "cell_type": "code",
   "execution_count": 10,
   "id": "47ef7f6b",
   "metadata": {},
   "outputs": [],
   "source": [
    "class Node:\n",
    "    def __init__(self, val):\n",
    "        self.val = val\n",
    "        self.left = None\n",
    "        self.right = None\n",
    "\n",
    "root = Node(10)\n",
    "root.left = Node(5)\n",
    "root.right = Node(15)\n",
    "root.left.left = Node(3)\n",
    "root.left.right = Node(7)\n",
    "root.right.right = Node(18)\n"
   ]
  },
  {
   "cell_type": "markdown",
   "id": "5fab10d3",
   "metadata": {},
   "source": [
    "Let's apply the step by step algoritm"
   ]
  },
  {
   "cell_type": "code",
   "execution_count": 11,
   "id": "f305ff4b",
   "metadata": {},
   "outputs": [],
   "source": [
    "def avl_sum(root, L, R):\n",
    "    if not root:\n",
    "        return 0\n",
    "    if root.val < L: # if current node's value is less then L search in the right subtree\n",
    "        return avl_sum(root.right, L, R) \n",
    "    elif root.val > R: # if current node's value is greater then R search in the left subtree\n",
    "        return avl_sum(root.left, L, R)\n",
    "    else:\n",
    "        return (root.val + avl_sum(root.left, L, R) + avl_sum(root.right, L, R)) # in range node added its value and search in both subtrees"
   ]
  },
  {
   "cell_type": "markdown",
   "id": "bc7772c2",
   "metadata": {},
   "source": [
    "Check the code"
   ]
  },
  {
   "cell_type": "code",
   "execution_count": 12,
   "id": "30a8bfeb",
   "metadata": {},
   "outputs": [
    {
     "name": "stdout",
     "output_type": "stream",
     "text": [
      "32\n"
     ]
    }
   ],
   "source": [
    "L = 7\n",
    "R = 15\n",
    "print(avl_sum(root, L, R))"
   ]
  },
  {
   "cell_type": "markdown",
   "id": "869690b3",
   "metadata": {},
   "source": [
    "The scalability of the ml model in downstream. Let consider a node is changed in ml feature in AVL tree it needs O(lon n) operations. In short it doesn't need to iterate all the node. Thus its very efficient. Its only change the updated node so it is faster. "
   ]
  },
  {
   "cell_type": "markdown",
   "id": "2f9696da",
   "metadata": {},
   "source": [
    "![alt text](<Screenshot 2025-10-16 010632.png>)"
   ]
  },
  {
   "cell_type": "markdown",
   "id": "e430913a",
   "metadata": {},
   "source": [
    "# Question number -2"
   ]
  },
  {
   "cell_type": "markdown",
   "id": "25272d49",
   "metadata": {},
   "source": [
    "## Suppose you must store and retrieve large model weight files distributed across a database. Explain how a B-Tree supports fast search and insert operations at scale.Follow-up: How does this apply to feature vector lookups in recommender systems?"
   ]
  },
  {
   "cell_type": "markdown",
   "id": "bd37ed64",
   "metadata": {},
   "source": [
    "Solution: B-tree is a self balancing tree data structure like AVL or Binary tree but B-tree can hold multiple children in a node where AVL can hold only two child. B-tree node works as key to find disired data. A feature in b-tree is it can hold multiple children in a node thus the hight of the tree reduce significantly which mean search for an object reduce disk uses. For efficient search key stored in node with multiple chiled a binary search is performed and search through the node until desired key found or reach a leaf node. for data insert first a binary search is initiated then find the key of the inset point if there is a room then key will insert there if there is no room or need to balenced the parent node being split and key is inserted. "
   ]
  },
  {
   "cell_type": "markdown",
   "id": "3f8e595d",
   "metadata": {},
   "source": [
    "Let's considers I have a recommenders system for users. When I want to interface with the dataset to retrieve or find vectors for users. b-tree enable rapid look up which need order of log n (O(lon n)) to full scan. If the system scale to thousands of core of data then b-tree come handy with fast sequential access in sorted order."
   ]
  },
  {
   "cell_type": "markdown",
   "id": "397cdb8b",
   "metadata": {},
   "source": [
    "# Question number -3"
   ]
  },
  {
   "cell_type": "markdown",
   "id": "e8c9c2f0",
   "metadata": {},
   "source": [
    "## Outline an algorithm for finding a minimum spanning tree (MST) in a distributed system. Follow-up: In what real-world ML scenario would you use MSTs (e.g., sensor network feature selection)? "
   ]
  },
  {
   "cell_type": "markdown",
   "id": "d5db61a5",
   "metadata": {},
   "source": [
    "Solution: there is many algorithm to determine the minimum path. Let's talk about my approach.\n",
    "\n",
    "1. Create path for every node. \n",
    "2. Find minimum path to reach next node.\n",
    "3. If it is connected before with other node then compare the weight if the previous node is smaller then skip this path. \n",
    "4. That way every node will connected with minimum weigh path. which require less time to reach. \n",
    "\n",
    "Finding the shortest path there is some famous algorithm which are Kruskal's Minimum Spanning Tree, Boruvka's Minimum Spanning Tree, Prim's Minimum Spanning Tree etc. "
   ]
  },
  {
   "cell_type": "markdown",
   "id": "4053be4b",
   "metadata": {},
   "source": [
    "In sensor network feature selection mst can be used to reduce redundancy, also it improve efficiency by minimizing total communication cost. By identifying optimal path it reduce computational power. In hierachial clustering mst can connect data with minimum distances. "
   ]
  },
  {
   "cell_type": "markdown",
   "id": "56d2420c",
   "metadata": {},
   "source": [
    "# Question number -4 "
   ]
  },
  {
   "cell_type": "markdown",
   "id": "6c11afdc",
   "metadata": {},
   "source": [
    "## For a tree- or graph-based feature index in a memory-constrained environment, compare slab allocation vs. garbage collection as memory management strategies. Follow-up: Which option better supports predictable latency for online serving in ML systems?"
   ]
  },
  {
   "cell_type": "markdown",
   "id": "eba17947",
   "metadata": {},
   "source": [
    "Solution:In Slab allocation pre-allocate memory block for an object. each block store pre define sized memory which can be easily allocate and deallocated by pointer. It is pre define thus it is fast and predictable memory location.  In slab allocation real time task is more efficient. \n",
    "On other hand garbage collection is method to frees up unused memory by identifying object that no longer in use. This method is dynamic so developer can easily maintain memory. But is has high latency.  "
   ]
  },
  {
   "cell_type": "markdown",
   "id": "e7b97c7b",
   "metadata": {},
   "source": [
    "For better supports predictable for online serving in ml systems latency slab allocation is good. Becaus its characteristics of better memory management and low garbage collection and low latency. This is perform good at real time task and online serving. "
   ]
  }
 ],
 "metadata": {
  "kernelspec": {
   "display_name": "Python 3",
   "language": "python",
   "name": "python3"
  },
  "language_info": {
   "codemirror_mode": {
    "name": "ipython",
    "version": 3
   },
   "file_extension": ".py",
   "mimetype": "text/x-python",
   "name": "python",
   "nbconvert_exporter": "python",
   "pygments_lexer": "ipython3",
   "version": "3.12.0"
  }
 },
 "nbformat": 4,
 "nbformat_minor": 5
}
