{
 "cells": [
  {
   "cell_type": "markdown",
   "id": "9718ddf4",
   "metadata": {},
   "source": [
    "# Time-Series Forecasting – Stock Prices"
   ]
  },
  {
   "cell_type": "markdown",
   "id": "008a844d",
   "metadata": {},
   "source": [
    "## Fetch Dataset from Yahoo Finance "
   ]
  },
  {
   "cell_type": "code",
   "execution_count": 62,
   "id": "1e6dc56c",
   "metadata": {},
   "outputs": [],
   "source": [
    "import datetime\n",
    "import yfinance as yf\n",
    "start_date = datetime.datetime(2020, 10, 1)\n",
    "end_date = datetime.datetime(2025, 9, 1)\n",
    "meta = yf.Ticker(\"AAPL\")\n",
    "data = meta.history(start=start_date, end=end_date)"
   ]
  },
  {
   "cell_type": "markdown",
   "id": "be47e42d",
   "metadata": {},
   "source": [
    "## Export data to CSV file"
   ]
  },
  {
   "cell_type": "code",
   "execution_count": 63,
   "id": "140860bd",
   "metadata": {},
   "outputs": [
    {
     "name": "stdout",
     "output_type": "stream",
     "text": [
      "Data exported to ../data/AAPL_stock_data.csv\n",
      "File saved with 1234 rows and 7 columns\n"
     ]
    }
   ],
   "source": [
    "data.to_csv(\"../data/AAPL_stock_data.csv\")\n",
    "print(\"Data exported to ../data/AAPL_stock_data.csv\")\n",
    "print(f\"File saved with {len(data)} rows and {len(data.columns)} columns\")"
   ]
  },
  {
   "cell_type": "markdown",
   "id": "6a3c7365",
   "metadata": {},
   "source": [
    "## Importing libreries "
   ]
  },
  {
   "cell_type": "code",
   "execution_count": 64,
   "id": "38229779",
   "metadata": {},
   "outputs": [],
   "source": [
    "import pandas as pd\n",
    "import numpy as np\n",
    "import matplotlib.pyplot as plt\n",
    "from sklearn.model_selection import train_test_split"
   ]
  },
  {
   "cell_type": "markdown",
   "id": "d7a8f675",
   "metadata": {},
   "source": [
    "## Data Preprocessing"
   ]
  },
  {
   "cell_type": "code",
   "execution_count": 65,
   "id": "cb408ede",
   "metadata": {},
   "outputs": [
    {
     "data": {
      "text/html": [
       "<div>\n",
       "<style scoped>\n",
       "    .dataframe tbody tr th:only-of-type {\n",
       "        vertical-align: middle;\n",
       "    }\n",
       "\n",
       "    .dataframe tbody tr th {\n",
       "        vertical-align: top;\n",
       "    }\n",
       "\n",
       "    .dataframe thead th {\n",
       "        text-align: right;\n",
       "    }\n",
       "</style>\n",
       "<table border=\"1\" class=\"dataframe\">\n",
       "  <thead>\n",
       "    <tr style=\"text-align: right;\">\n",
       "      <th></th>\n",
       "      <th>Date</th>\n",
       "      <th>Open</th>\n",
       "      <th>High</th>\n",
       "      <th>Low</th>\n",
       "      <th>Close</th>\n",
       "      <th>Volume</th>\n",
       "      <th>Dividends</th>\n",
       "      <th>Stock Splits</th>\n",
       "    </tr>\n",
       "  </thead>\n",
       "  <tbody>\n",
       "    <tr>\n",
       "      <th>0</th>\n",
       "      <td>2020-10-01 00:00:00-04:00</td>\n",
       "      <td>114.430515</td>\n",
       "      <td>114.508334</td>\n",
       "      <td>112.669898</td>\n",
       "      <td>113.603706</td>\n",
       "      <td>116120400</td>\n",
       "      <td>0.0</td>\n",
       "      <td>0.0</td>\n",
       "    </tr>\n",
       "    <tr>\n",
       "      <th>1</th>\n",
       "      <td>2020-10-02 00:00:00-04:00</td>\n",
       "      <td>109.810111</td>\n",
       "      <td>112.222454</td>\n",
       "      <td>109.158392</td>\n",
       "      <td>109.936562</td>\n",
       "      <td>144712000</td>\n",
       "      <td>0.0</td>\n",
       "      <td>0.0</td>\n",
       "    </tr>\n",
       "    <tr>\n",
       "      <th>2</th>\n",
       "      <td>2020-10-05 00:00:00-04:00</td>\n",
       "      <td>110.802282</td>\n",
       "      <td>113.467526</td>\n",
       "      <td>110.452103</td>\n",
       "      <td>113.321617</td>\n",
       "      <td>106243800</td>\n",
       "      <td>0.0</td>\n",
       "      <td>0.0</td>\n",
       "    </tr>\n",
       "    <tr>\n",
       "      <th>3</th>\n",
       "      <td>2020-10-06 00:00:00-04:00</td>\n",
       "      <td>112.543451</td>\n",
       "      <td>112.951998</td>\n",
       "      <td>109.187577</td>\n",
       "      <td>110.072754</td>\n",
       "      <td>161498200</td>\n",
       "      <td>0.0</td>\n",
       "      <td>0.0</td>\n",
       "    </tr>\n",
       "    <tr>\n",
       "      <th>4</th>\n",
       "      <td>2020-10-07 00:00:00-04:00</td>\n",
       "      <td>111.492912</td>\n",
       "      <td>112.397540</td>\n",
       "      <td>111.016275</td>\n",
       "      <td>111.940361</td>\n",
       "      <td>96849000</td>\n",
       "      <td>0.0</td>\n",
       "      <td>0.0</td>\n",
       "    </tr>\n",
       "  </tbody>\n",
       "</table>\n",
       "</div>"
      ],
      "text/plain": [
       "                        Date        Open        High         Low       Close  \\\n",
       "0  2020-10-01 00:00:00-04:00  114.430515  114.508334  112.669898  113.603706   \n",
       "1  2020-10-02 00:00:00-04:00  109.810111  112.222454  109.158392  109.936562   \n",
       "2  2020-10-05 00:00:00-04:00  110.802282  113.467526  110.452103  113.321617   \n",
       "3  2020-10-06 00:00:00-04:00  112.543451  112.951998  109.187577  110.072754   \n",
       "4  2020-10-07 00:00:00-04:00  111.492912  112.397540  111.016275  111.940361   \n",
       "\n",
       "      Volume  Dividends  Stock Splits  \n",
       "0  116120400        0.0           0.0  \n",
       "1  144712000        0.0           0.0  \n",
       "2  106243800        0.0           0.0  \n",
       "3  161498200        0.0           0.0  \n",
       "4   96849000        0.0           0.0  "
      ]
     },
     "execution_count": 65,
     "metadata": {},
     "output_type": "execute_result"
    }
   ],
   "source": [
    "df = pd.read_csv(\"../data/AAPL_stock_data.csv\")\n",
    "df.head()"
   ]
  },
  {
   "cell_type": "code",
   "execution_count": 66,
   "id": "165c8647",
   "metadata": {},
   "outputs": [
    {
     "data": {
      "text/html": [
       "<div>\n",
       "<style scoped>\n",
       "    .dataframe tbody tr th:only-of-type {\n",
       "        vertical-align: middle;\n",
       "    }\n",
       "\n",
       "    .dataframe tbody tr th {\n",
       "        vertical-align: top;\n",
       "    }\n",
       "\n",
       "    .dataframe thead th {\n",
       "        text-align: right;\n",
       "    }\n",
       "</style>\n",
       "<table border=\"1\" class=\"dataframe\">\n",
       "  <thead>\n",
       "    <tr style=\"text-align: right;\">\n",
       "      <th></th>\n",
       "      <th>Date</th>\n",
       "      <th>Open</th>\n",
       "      <th>High</th>\n",
       "      <th>Low</th>\n",
       "      <th>Close</th>\n",
       "      <th>Volume</th>\n",
       "    </tr>\n",
       "  </thead>\n",
       "  <tbody>\n",
       "    <tr>\n",
       "      <th>0</th>\n",
       "      <td>2020-10-01</td>\n",
       "      <td>114.430515</td>\n",
       "      <td>114.508334</td>\n",
       "      <td>112.669898</td>\n",
       "      <td>113.603706</td>\n",
       "      <td>116120400</td>\n",
       "    </tr>\n",
       "    <tr>\n",
       "      <th>1</th>\n",
       "      <td>2020-10-02</td>\n",
       "      <td>109.810111</td>\n",
       "      <td>112.222454</td>\n",
       "      <td>109.158392</td>\n",
       "      <td>109.936562</td>\n",
       "      <td>144712000</td>\n",
       "    </tr>\n",
       "    <tr>\n",
       "      <th>2</th>\n",
       "      <td>2020-10-05</td>\n",
       "      <td>110.802282</td>\n",
       "      <td>113.467526</td>\n",
       "      <td>110.452103</td>\n",
       "      <td>113.321617</td>\n",
       "      <td>106243800</td>\n",
       "    </tr>\n",
       "    <tr>\n",
       "      <th>3</th>\n",
       "      <td>2020-10-06</td>\n",
       "      <td>112.543451</td>\n",
       "      <td>112.951998</td>\n",
       "      <td>109.187577</td>\n",
       "      <td>110.072754</td>\n",
       "      <td>161498200</td>\n",
       "    </tr>\n",
       "    <tr>\n",
       "      <th>4</th>\n",
       "      <td>2020-10-07</td>\n",
       "      <td>111.492912</td>\n",
       "      <td>112.397540</td>\n",
       "      <td>111.016275</td>\n",
       "      <td>111.940361</td>\n",
       "      <td>96849000</td>\n",
       "    </tr>\n",
       "  </tbody>\n",
       "</table>\n",
       "</div>"
      ],
      "text/plain": [
       "         Date        Open        High         Low       Close     Volume\n",
       "0  2020-10-01  114.430515  114.508334  112.669898  113.603706  116120400\n",
       "1  2020-10-02  109.810111  112.222454  109.158392  109.936562  144712000\n",
       "2  2020-10-05  110.802282  113.467526  110.452103  113.321617  106243800\n",
       "3  2020-10-06  112.543451  112.951998  109.187577  110.072754  161498200\n",
       "4  2020-10-07  111.492912  112.397540  111.016275  111.940361   96849000"
      ]
     },
     "execution_count": 66,
     "metadata": {},
     "output_type": "execute_result"
    }
   ],
   "source": [
    "df = df.drop(['Dividends', 'Stock Splits'], axis=1)\n",
    "# Convert to datetime and then extract just the date part\n",
    "df['Date'] = pd.to_datetime(df['Date'], utc=True).dt.strftime('%Y-%m-%d')\n",
    "df.head()"
   ]
  },
  {
   "cell_type": "code",
   "execution_count": 67,
   "id": "037b74b5",
   "metadata": {},
   "outputs": [],
   "source": [
    "df.set_index('Date',inplace=True)"
   ]
  },
  {
   "cell_type": "code",
   "execution_count": 68,
   "id": "bb235373",
   "metadata": {},
   "outputs": [
    {
     "name": "stdout",
     "output_type": "stream",
     "text": [
      "<class 'pandas.core.frame.DataFrame'>\n",
      "Index: 1234 entries, 2020-10-01 to 2025-08-29\n",
      "Data columns (total 5 columns):\n",
      " #   Column  Non-Null Count  Dtype  \n",
      "---  ------  --------------  -----  \n",
      " 0   Open    1234 non-null   float64\n",
      " 1   High    1234 non-null   float64\n",
      " 2   Low     1234 non-null   float64\n",
      " 3   Close   1234 non-null   float64\n",
      " 4   Volume  1234 non-null   int64  \n",
      "dtypes: float64(4), int64(1)\n",
      "memory usage: 57.8+ KB\n"
     ]
    }
   ],
   "source": [
    "df.info()"
   ]
  },
  {
   "cell_type": "markdown",
   "id": "1e6779d8",
   "metadata": {},
   "source": [
    "There is no missing value."
   ]
  },
  {
   "cell_type": "code",
   "execution_count": 69,
   "id": "abb8c2b2",
   "metadata": {},
   "outputs": [],
   "source": [
    "X = df.drop(['Close'], axis=1)\n",
    "y = df['Close']\n",
    "X_train, X_test, y_train, y_test = train_test_split(X, y, test_size=0.2, random_state=42)\n"
   ]
  },
  {
   "cell_type": "code",
   "execution_count": 70,
   "id": "e6d7700f",
   "metadata": {},
   "outputs": [
    {
     "name": "stdout",
     "output_type": "stream",
     "text": [
      "                  Open        High         Low     Volume\n",
      "Date                                                     \n",
      "2020-10-01  114.430515  114.508334  112.669898  116120400\n",
      "2020-10-02  109.810111  112.222454  109.158392  144712000\n",
      "2020-10-05  110.802282  113.467526  110.452103  106243800\n",
      "2020-10-06  112.543451  112.951998  109.187577  161498200\n",
      "2020-10-07  111.492912  112.397540  111.016275   96849000\n",
      "...                ...         ...         ...        ...\n",
      "2025-08-25  226.479996  229.300003  226.229996   30983100\n",
      "2025-08-26  226.869995  229.490005  224.690002   54575100\n",
      "2025-08-27  228.610001  230.899994  228.259995   31259500\n",
      "2025-08-28  230.820007  233.410004  229.339996   38074700\n",
      "2025-08-29  232.509995  233.380005  231.369995   39418400\n",
      "\n",
      "[1234 rows x 4 columns]\n",
      "Date\n",
      "2020-10-01    113.603706\n",
      "2020-10-02    109.936562\n",
      "2020-10-05    113.321617\n",
      "2020-10-06    110.072754\n",
      "2020-10-07    111.940361\n",
      "                 ...    \n",
      "2025-08-25    227.160004\n",
      "2025-08-26    229.309998\n",
      "2025-08-27    230.490005\n",
      "2025-08-28    232.559998\n",
      "2025-08-29    232.139999\n",
      "Name: Close, Length: 1234, dtype: float64\n"
     ]
    }
   ],
   "source": [
    "print(X)\n",
    "print(y)"
   ]
  },
  {
   "cell_type": "code",
   "execution_count": 71,
   "id": "797b0dcb",
   "metadata": {},
   "outputs": [
    {
     "name": "stdout",
     "output_type": "stream",
     "text": [
      "                  Open        High         Low    Volume\n",
      "Date                                                    \n",
      "2024-03-18  174.318200  176.442941  172.282813  75604200\n",
      "2023-08-24  178.917509  179.343346  174.302707  54945800\n",
      "2023-12-11  191.488808  191.865622  189.812993  60943700\n",
      "2023-04-25  163.141386  164.247492  161.699486  48714100\n",
      "2023-12-26  191.984602  192.262250  191.211152  28919300\n",
      "...                ...         ...         ...       ...\n",
      "2024-11-25  230.641249  232.424910  228.927332  90152800\n",
      "2025-02-11  227.642796  234.655630  227.572975  53718400\n",
      "2025-04-02  220.779591  224.640136  220.480320  35905900\n",
      "2024-03-05  169.542480  170.813352  168.410608  95132400\n",
      "2025-03-27  220.849406  224.440621  220.021431  37094800\n",
      "\n",
      "[987 rows x 4 columns]\n",
      "Date\n",
      "2024-03-18    172.481384\n",
      "2023-08-24    174.669128\n",
      "2023-12-11    191.558212\n",
      "2023-04-25    161.738998\n",
      "2023-12-26    191.429306\n",
      "                 ...    \n",
      "2024-11-25    232.046249\n",
      "2025-02-11    232.052002\n",
      "2025-04-02    223.343307\n",
      "2024-03-05    168.907043\n",
      "2025-03-27    223.303406\n",
      "Name: Close, Length: 987, dtype: float64\n",
      "                  Open        High         Low     Volume\n",
      "Date                                                     \n",
      "2023-09-29  170.351411  171.391229  168.687699   51861100\n",
      "2023-01-25  138.930619  140.449196  136.879545   65799300\n",
      "2022-12-05  145.714950  148.821137  143.742765   68826400\n",
      "2021-03-16  122.664585  124.147885  121.708255  115227900\n",
      "2021-06-11  123.684290  124.573827  123.263960   53522400\n",
      "...                ...         ...         ...        ...\n",
      "2020-11-13  116.381851  116.605958  114.852049   81581900\n",
      "2023-11-03  172.549896  175.104872  171.668530   79829200\n",
      "2024-05-15  186.823288  189.547432  186.286402   70400000\n",
      "2022-03-09  158.517160  160.411756  156.485148   91454900\n",
      "2022-10-28  145.896972  155.052453  145.522887  164762400\n",
      "\n",
      "[247 rows x 4 columns]\n",
      "Date\n",
      "2023-09-29    169.549271\n",
      "2023-01-25    139.887131\n",
      "2022-12-05    144.590805\n",
      "2021-03-16    122.537727\n",
      "2021-06-11    124.485847\n",
      "                 ...    \n",
      "2020-11-13    116.206459\n",
      "2023-11-03    174.936508\n",
      "2024-05-15    188.622818\n",
      "2022-03-09    159.960190\n",
      "2022-10-28    153.319809\n",
      "Name: Close, Length: 247, dtype: float64\n"
     ]
    }
   ],
   "source": [
    "print(X_train)\n",
    "print(y_train)\n",
    "print(X_test)\n",
    "print(y_test)"
   ]
  },
  {
   "cell_type": "markdown",
   "id": "bb312ec1",
   "metadata": {},
   "source": [
    "## Visualize the trends "
   ]
  },
  {
   "cell_type": "code",
   "execution_count": 72,
   "id": "a6170888",
   "metadata": {},
   "outputs": [
    {
     "data": {
      "image/png": "[encoded data removed]",
      "text/plain": [
       "<Figure size 640x480 with 1 Axes>"
      ]
     },
     "metadata": {},
     "output_type": "display_data"
    }
   ],
   "source": [
    "df['Close'].plot(title=\"Meta Stock Price (Last 5 Years)\")\n",
    "plt.xlabel(\"Date\")\n",
    "plt.ylabel(\"Close Price (USD)\")\n",
    "plt.show()"
   ]
  },
  {
   "cell_type": "markdown",
   "id": "e8cad251",
   "metadata": {},
   "source": [
    "Plot above shows that the price of the stock increases over time. "
   ]
  },
  {
   "cell_type": "markdown",
   "id": "a05242c5",
   "metadata": {},
   "source": [
    "## Model Implementation"
   ]
  },
  {
   "cell_type": "markdown",
   "id": "1cc03624",
   "metadata": {},
   "source": [
    "### Traditional statistical model ARIMA"
   ]
  },
  {
   "cell_type": "markdown",
   "id": "e375f1d0",
   "metadata": {},
   "source": [
    "To apply the ARIMA model we have to check the data is stationary or not."
   ]
  },
  {
   "cell_type": "code",
   "execution_count": 73,
   "id": "1deb00d6",
   "metadata": {},
   "outputs": [
    {
     "name": "stdout",
     "output_type": "stream",
     "text": [
      "Augmneted Dickey_fuller Statistic: -1.428009\n",
      "p-value: 0.568777\n",
      "critical values at different levels:\n",
      "\t1%: -3.436\n",
      "\t5%: -2.864\n",
      "\t10%: -2.568\n"
     ]
    }
   ],
   "source": [
    "from statsmodels.tsa.stattools import adfuller\n",
    "\n",
    "values = df['Close'].values\n",
    "result = adfuller(values)\n",
    "\n",
    "print('Augmneted Dickey_fuller Statistic: %f' % result[0])\n",
    "print('p-value: %f' % result[1])\n",
    "\n",
    "print('critical values at different levels:')\n",
    "for k, v in result[4].items():\n",
    "    print('\\t%s: %.3f' % (k, v))"
   ]
  },
  {
   "cell_type": "markdown",
   "id": "55ab0f6d",
   "metadata": {},
   "source": [
    "### Analysis of Stationarity Test\n",
    "\n",
    "Result: The data is NOT stationary\n",
    "\n",
    "p-value (0.568777) > 0.05: We fail to reject the null hypothesis of non-stationarity\n",
    "ADF statistic (-1.428) is greater than critical values, indicating non-stationarity\n",
    "This is expected for stock prices, which typically show trends and don't revert to a constant mean\n"
   ]
  },
  {
   "cell_type": "code",
   "execution_count": 74,
   "id": "1c3fccaa",
   "metadata": {},
   "outputs": [
    {
     "data": {
      "text/plain": [
       "Date\n",
       "2020-10-01           NaN\n",
       "2020-10-02    113.603706\n",
       "2020-10-05    109.936562\n",
       "2020-10-06    113.321617\n",
       "2020-10-07    110.072754\n",
       "                 ...    \n",
       "2025-08-25    227.759995\n",
       "2025-08-26    227.160004\n",
       "2025-08-27    229.309998\n",
       "2025-08-28    230.490005\n",
       "2025-08-29    232.559998\n",
       "Name: Close, Length: 1234, dtype: float64"
      ]
     },
     "execution_count": 74,
     "metadata": {},
     "output_type": "execute_result"
    }
   ],
   "source": [
    "df['Close_diff'] = df['Close'] - df['Close'].shift(1)\n",
    "df['Close'].shift(1)"
   ]
  },
  {
   "cell_type": "code",
   "execution_count": 75,
   "id": "37d42fd1",
   "metadata": {},
   "outputs": [
    {
     "name": "stdout",
     "output_type": "stream",
     "text": [
      "Augmented Dickey-Fuller Statistic: -20.701979\n",
      "p-value: 0.000000\n",
      "critical values at different levels:\n",
      "\t1%: -3.436\n",
      "\t5%: -2.864\n",
      "\t10%: -2.568\n"
     ]
    }
   ],
   "source": [
    "values = df['Close_diff'].dropna().values\n",
    "result1 = adfuller(values)\n",
    "\n",
    "print('Augmented Dickey-Fuller Statistic: %f' % result1[0])\n",
    "print('p-value: %f' % result1[1])\n",
    "\n",
    "print('critical values at different levels:')\n",
    "for k, v in result1[4].items():\n",
    "    print('\\t%s: %.3f' % (k, v))"
   ]
  },
  {
   "cell_type": "code",
   "execution_count": 76,
   "id": "608a2ff0",
   "metadata": {},
   "outputs": [
    {
     "data": {
      "text/plain": [
       "<Axes: xlabel='Date'>"
      ]
     },
     "execution_count": 76,
     "metadata": {},
     "output_type": "execute_result"
    },
    {
     "data": {
      "image/png": "[encoded data removed]",
      "text/plain": [
       "<Figure size 640x480 with 1 Axes>"
      ]
     },
     "metadata": {},
     "output_type": "display_data"
    }
   ],
   "source": [
    "# let's plot to see the difference\n",
    "df['Close_diff'].plot()"
   ]
  },
  {
   "cell_type": "markdown",
   "id": "f249051d",
   "metadata": {},
   "source": [
    "see the autocorellation and corelation"
   ]
  },
  {
   "cell_type": "code",
   "execution_count": 77,
   "id": "44c97732",
   "metadata": {},
   "outputs": [
    {
     "data": {
      "image/png": "[encoded data removed]",
      "text/plain": [
       "<Figure size 640x480 with 1 Axes>"
      ]
     },
     "metadata": {},
     "output_type": "display_data"
    },
    {
     "data": {
      "image/png": "[encoded data removed]",
      "text/plain": [
       "<Figure size 640x480 with 1 Axes>"
      ]
     },
     "metadata": {},
     "output_type": "display_data"
    }
   ],
   "source": [
    "from statsmodels.graphics.tsaplots import plot_acf,plot_pacf\n",
    "fig = plot_acf(df['Close_diff'].iloc[13:],lags=40\n",
    "               ,title=\"Autocorrelation of Meta Stock Prices\"\n",
    "               ,zero=False\n",
    "               )\n",
    "fig = plot_pacf(df['Close_diff'].iloc[13:],lags=40\n",
    "                ,title=\"Partial Autocorrelation of Meta Stock Prices\"\n",
    "                ,zero=False\n",
    "                )"
   ]
  },
  {
   "cell_type": "markdown",
   "id": "670ada33",
   "metadata": {},
   "source": [
    "train arima model"
   ]
  },
  {
   "cell_type": "code",
   "execution_count": 82,
   "id": "54821b3e",
   "metadata": {},
   "outputs": [],
   "source": [
    "from statsmodels.tsa.arima.model import ARIMA\n",
    "model=ARIMA(df['Close'],order=(1,1,1))\n",
    "model_fit=model.fit()"
   ]
  },
  {
   "cell_type": "code",
   "execution_count": 83,
   "id": "5ed22452",
   "metadata": {},
   "outputs": [
    {
     "data": {
      "text/html": [
       "<table class=\"simpletable\">\n",
       "<caption>SARIMAX Results</caption>\n",
       "<tr>\n",
       "  <th>Dep. Variable:</th>         <td>Close</td>      <th>  No. Observations:  </th>   <td>1234</td>   \n",
       "</tr>\n",
       "<tr>\n",
       "  <th>Model:</th>            <td>ARIMA(1, 1, 1)</td>  <th>  Log Likelihood     </th> <td>-3119.754</td>\n",
       "</tr>\n",
       "<tr>\n",
       "  <th>Date:</th>            <td>Wed, 01 Oct 2025</td> <th>  AIC                </th> <td>6245.509</td> \n",
       "</tr>\n",
       "<tr>\n",
       "  <th>Time:</th>                <td>17:48:48</td>     <th>  BIC                </th> <td>6260.860</td> \n",
       "</tr>\n",
       "<tr>\n",
       "  <th>Sample:</th>                  <td>0</td>        <th>  HQIC               </th> <td>6251.284</td> \n",
       "</tr>\n",
       "<tr>\n",
       "  <th></th>                      <td> - 1234</td>     <th>                     </th>     <td> </td>    \n",
       "</tr>\n",
       "<tr>\n",
       "  <th>Covariance Type:</th>        <td>opg</td>       <th>                     </th>     <td> </td>    \n",
       "</tr>\n",
       "</table>\n",
       "<table class=\"simpletable\">\n",
       "<tr>\n",
       "     <td></td>       <th>coef</th>     <th>std err</th>      <th>z</th>      <th>P>|z|</th>  <th>[0.025</th>    <th>0.975]</th>  \n",
       "</tr>\n",
       "<tr>\n",
       "  <th>ar.L1</th>  <td>    0.2278</td> <td>    0.594</td> <td>    0.383</td> <td> 0.701</td> <td>   -0.937</td> <td>    1.392</td>\n",
       "</tr>\n",
       "<tr>\n",
       "  <th>ma.L1</th>  <td>   -0.1983</td> <td>    0.599</td> <td>   -0.331</td> <td> 0.740</td> <td>   -1.372</td> <td>    0.975</td>\n",
       "</tr>\n",
       "<tr>\n",
       "  <th>sigma2</th> <td>    9.2308</td> <td>    0.189</td> <td>   48.862</td> <td> 0.000</td> <td>    8.861</td> <td>    9.601</td>\n",
       "</tr>\n",
       "</table>\n",
       "<table class=\"simpletable\">\n",
       "<tr>\n",
       "  <th>Ljung-Box (L1) (Q):</th>     <td>0.02</td> <th>  Jarque-Bera (JB):  </th> <td>3176.29</td>\n",
       "</tr>\n",
       "<tr>\n",
       "  <th>Prob(Q):</th>                <td>0.89</td> <th>  Prob(JB):          </th>  <td>0.00</td>  \n",
       "</tr>\n",
       "<tr>\n",
       "  <th>Heteroskedasticity (H):</th> <td>2.07</td> <th>  Skew:              </th>  <td>0.19</td>  \n",
       "</tr>\n",
       "<tr>\n",
       "  <th>Prob(H) (two-sided):</th>    <td>0.00</td> <th>  Kurtosis:          </th>  <td>10.85</td> \n",
       "</tr>\n",
       "</table><br/><br/>Warnings:<br/>[1] Covariance matrix calculated using the outer product of gradients (complex-step)."
      ],
      "text/latex": [
       "\\begin{center}\n",
       "\\begin{tabular}{lclc}\n",
       "\\toprule\n",
       "\\textbf{Dep. Variable:}          &      Close       & \\textbf{  No. Observations:  } &    1234     \\\\\n",
       "\\textbf{Model:}                  &  ARIMA(1, 1, 1)  & \\textbf{  Log Likelihood     } & -3119.754   \\\\\n",
       "\\textbf{Date:}                   & Wed, 01 Oct 2025 & \\textbf{  AIC                } &  6245.509   \\\\\n",
       "\\textbf{Time:}                   &     17:48:48     & \\textbf{  BIC                } &  6260.860   \\\\\n",
       "\\textbf{Sample:}                 &        0         & \\textbf{  HQIC               } &  6251.284   \\\\\n",
       "\\textbf{}                        &      - 1234      & \\textbf{                     } &             \\\\\n",
       "\\textbf{Covariance Type:}        &       opg        & \\textbf{                     } &             \\\\\n",
       "\\bottomrule\n",
       "\\end{tabular}\n",
       "\\begin{tabular}{lcccccc}\n",
       "                & \\textbf{coef} & \\textbf{std err} & \\textbf{z} & \\textbf{P$> |$z$|$} & \\textbf{[0.025} & \\textbf{0.975]}  \\\\\n",
       "\\midrule\n",
       "\\textbf{ar.L1}  &       0.2278  &        0.594     &     0.383  &         0.701        &       -0.937    &        1.392     \\\\\n",
       "\\textbf{ma.L1}  &      -0.1983  &        0.599     &    -0.331  &         0.740        &       -1.372    &        0.975     \\\\\n",
       "\\textbf{sigma2} &       9.2308  &        0.189     &    48.862  &         0.000        &        8.861    &        9.601     \\\\\n",
       "\\bottomrule\n",
       "\\end{tabular}\n",
       "\\begin{tabular}{lclc}\n",
       "\\textbf{Ljung-Box (L1) (Q):}     & 0.02 & \\textbf{  Jarque-Bera (JB):  } & 3176.29  \\\\\n",
       "\\textbf{Prob(Q):}                & 0.89 & \\textbf{  Prob(JB):          } &   0.00   \\\\\n",
       "\\textbf{Heteroskedasticity (H):} & 2.07 & \\textbf{  Skew:              } &   0.19   \\\\\n",
       "\\textbf{Prob(H) (two-sided):}    & 0.00 & \\textbf{  Kurtosis:          } &  10.85   \\\\\n",
       "\\bottomrule\n",
       "\\end{tabular}\n",
       "%\\caption{SARIMAX Results}\n",
       "\\end{center}\n",
       "\n",
       "Warnings: \\newline\n",
       " [1] Covariance matrix calculated using the outer product of gradients (complex-step)."
      ],
      "text/plain": [
       "<class 'statsmodels.iolib.summary.Summary'>\n",
       "\"\"\"\n",
       "                               SARIMAX Results                                \n",
       "==============================================================================\n",
       "Dep. Variable:                  Close   No. Observations:                 1234\n",
       "Model:                 ARIMA(1, 1, 1)   Log Likelihood               -3119.754\n",
       "Date:                Wed, 01 Oct 2025   AIC                           6245.509\n",
       "Time:                        17:48:48   BIC                           6260.860\n",
       "Sample:                             0   HQIC                          6251.284\n",
       "                               - 1234                                         \n",
       "Covariance Type:                  opg                                         \n",
       "==============================================================================\n",
       "                 coef    std err          z      P>|z|      [0.025      0.975]\n",
       "------------------------------------------------------------------------------\n",
       "ar.L1          0.2278      0.594      0.383      0.701      -0.937       1.392\n",
       "ma.L1         -0.1983      0.599     -0.331      0.740      -1.372       0.975\n",
       "sigma2         9.2308      0.189     48.862      0.000       8.861       9.601\n",
       "===================================================================================\n",
       "Ljung-Box (L1) (Q):                   0.02   Jarque-Bera (JB):              3176.29\n",
       "Prob(Q):                              0.89   Prob(JB):                         0.00\n",
       "Heteroskedasticity (H):               2.07   Skew:                             0.19\n",
       "Prob(H) (two-sided):                  0.00   Kurtosis:                        10.85\n",
       "===================================================================================\n",
       "\n",
       "Warnings:\n",
       "[1] Covariance matrix calculated using the outer product of gradients (complex-step).\n",
       "\"\"\""
      ]
     },
     "execution_count": 83,
     "metadata": {},
     "output_type": "execute_result"
    }
   ],
   "source": [
    "model_fit.summary()"
   ]
  },
  {
   "cell_type": "code",
   "execution_count": null,
   "id": "e896a815",
   "metadata": {},
   "outputs": [],
   "source": []
  }
 ],
 "metadata": {
  "kernelspec": {
   "display_name": "Python 3",
   "language": "python",
   "name": "python3"
  },
  "language_info": {
   "codemirror_mode": {
    "name": "ipython",
    "version": 3
   },
   "file_extension": ".py",
   "mimetype": "text/x-python",
   "name": "python",
   "nbconvert_exporter": "python",
   "pygments_lexer": "ipython3",
   "version": "3.12.0"
  }
 },
 "nbformat": 4,
 "nbformat_minor": 5
}
