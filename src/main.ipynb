{
 "cells": [
  {
   "cell_type": "markdown",
   "id": "9718ddf4",
   "metadata": {},
   "source": [
    "# Collecting Dataset"
   ]
  },
  {
   "cell_type": "markdown",
   "id": "008a844d",
   "metadata": {},
   "source": [
    "## Fetch Dataset from Yahoo Finance "
   ]
  },
  {
   "cell_type": "code",
   "execution_count": 5,
   "id": "1e6dc56c",
   "metadata": {},
   "outputs": [],
   "source": [
    "import datetime\n",
    "import yfinance as yf\n",
    "start_date = datetime.datetime(2020, 10, 1)\n",
    "end_date = datetime.datetime(2025, 9, 1)\n",
    "meta = yf.Ticker(\"AAPL\")\n",
    "data = meta.history(start=start_date, end=end_date)"
   ]
  },
  {
   "cell_type": "markdown",
   "id": "be47e42d",
   "metadata": {},
   "source": [
    "## Export data to CSV file"
   ]
  },
  {
   "cell_type": "code",
   "execution_count": null,
   "id": "140860bd",
   "metadata": {},
   "outputs": [
    {
     "name": "stdout",
     "output_type": "stream",
     "text": [
      "Data exported to ../data/AAPL_stock_data.csv\n",
      "File saved with 1234 rows and 7 columns\n"
     ]
    }
   ],
   "source": [
    "data.to_csv(../data/AAPL_stock_data.csv)\n",
    "print(\"Data exported to ../data/AAPL_stock_data.csv\")\n",
    "print(f\"File saved with {len(data)} rows and {len(data.columns)} columns\")"
   ]
  },
  {
   "cell_type": "markdown",
   "id": "6a3c7365",
   "metadata": {},
   "source": []
  }
 ],
 "metadata": {
  "kernelspec": {
   "display_name": "Python 3",
   "language": "python",
   "name": "python3"
  },
  "language_info": {
   "codemirror_mode": {
    "name": "ipython",
    "version": 3
   },
   "file_extension": ".py",
   "mimetype": "text/x-python",
   "name": "python",
   "nbconvert_exporter": "python",
   "pygments_lexer": "ipython3",
   "version": "3.12.0"
  }
 },
 "nbformat": 4,
 "nbformat_minor": 5
}
