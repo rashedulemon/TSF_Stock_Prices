{
 "cells": [
  {
   "cell_type": "markdown",
   "id": "9718ddf4",
   "metadata": {},
   "source": [
    "# Time-Series Forecasting – Stock Prices"
   ]
  },
  {
   "cell_type": "markdown",
   "id": "008a844d",
   "metadata": {},
   "source": [
    "## Fetch Dataset from Yahoo Finance "
   ]
  },
  {
   "cell_type": "code",
   "execution_count": 1,
   "id": "1e6dc56c",
   "metadata": {},
   "outputs": [],
   "source": [
    "import datetime\n",
    "import yfinance as yf\n",
    "start_date = datetime.datetime(2020, 10, 1)\n",
    "end_date = datetime.datetime(2025, 9, 1)\n",
    "meta = yf.Ticker(\"AAPL\")\n",
    "data = meta.history(start=start_date, end=end_date)"
   ]
  },
  {
   "cell_type": "markdown",
   "id": "be47e42d",
   "metadata": {},
   "source": [
    "## Export data to CSV file"
   ]
  },
  {
   "cell_type": "code",
   "execution_count": 3,
   "id": "140860bd",
   "metadata": {},
   "outputs": [
    {
     "name": "stdout",
     "output_type": "stream",
     "text": [
      "Data exported to ../data/AAPL_stock_data.csv\n",
      "File saved with 1234 rows and 7 columns\n"
     ]
    }
   ],
   "source": [
    "data.to_csv(\"../data/AAPL_stock_data.csv\")\n",
    "print(\"Data exported to ../data/AAPL_stock_data.csv\")\n",
    "print(f\"File saved with {len(data)} rows and {len(data.columns)} columns\")"
   ]
  },
  {
   "cell_type": "markdown",
   "id": "6a3c7365",
   "metadata": {},
   "source": [
    "## Importing libreries "
   ]
  },
  {
   "cell_type": "code",
   "execution_count": 16,
   "id": "38229779",
   "metadata": {},
   "outputs": [],
   "source": [
    "import pandas as pd\n",
    "import numpy as np\n",
    "import matplotlib.pyplot as plt\n",
    "from sklearn.model_selection import train_test_split"
   ]
  },
  {
   "cell_type": "markdown",
   "id": "d7a8f675",
   "metadata": {},
   "source": [
    "## Data Preprocessing"
   ]
  },
  {
   "cell_type": "code",
   "execution_count": 12,
   "id": "cb408ede",
   "metadata": {},
   "outputs": [
    {
     "data": {
      "text/html": [
       "<div>\n",
       "<style scoped>\n",
       "    .dataframe tbody tr th:only-of-type {\n",
       "        vertical-align: middle;\n",
       "    }\n",
       "\n",
       "    .dataframe tbody tr th {\n",
       "        vertical-align: top;\n",
       "    }\n",
       "\n",
       "    .dataframe thead th {\n",
       "        text-align: right;\n",
       "    }\n",
       "</style>\n",
       "<table border=\"1\" class=\"dataframe\">\n",
       "  <thead>\n",
       "    <tr style=\"text-align: right;\">\n",
       "      <th></th>\n",
       "      <th>Date</th>\n",
       "      <th>Open</th>\n",
       "      <th>High</th>\n",
       "      <th>Low</th>\n",
       "      <th>Close</th>\n",
       "      <th>Volume</th>\n",
       "      <th>Dividends</th>\n",
       "      <th>Stock Splits</th>\n",
       "    </tr>\n",
       "  </thead>\n",
       "  <tbody>\n",
       "    <tr>\n",
       "      <th>0</th>\n",
       "      <td>2020-10-01 00:00:00-04:00</td>\n",
       "      <td>114.430515</td>\n",
       "      <td>114.508334</td>\n",
       "      <td>112.669898</td>\n",
       "      <td>113.603706</td>\n",
       "      <td>116120400</td>\n",
       "      <td>0.0</td>\n",
       "      <td>0.0</td>\n",
       "    </tr>\n",
       "    <tr>\n",
       "      <th>1</th>\n",
       "      <td>2020-10-02 00:00:00-04:00</td>\n",
       "      <td>109.810111</td>\n",
       "      <td>112.222454</td>\n",
       "      <td>109.158392</td>\n",
       "      <td>109.936562</td>\n",
       "      <td>144712000</td>\n",
       "      <td>0.0</td>\n",
       "      <td>0.0</td>\n",
       "    </tr>\n",
       "    <tr>\n",
       "      <th>2</th>\n",
       "      <td>2020-10-05 00:00:00-04:00</td>\n",
       "      <td>110.802282</td>\n",
       "      <td>113.467526</td>\n",
       "      <td>110.452103</td>\n",
       "      <td>113.321617</td>\n",
       "      <td>106243800</td>\n",
       "      <td>0.0</td>\n",
       "      <td>0.0</td>\n",
       "    </tr>\n",
       "    <tr>\n",
       "      <th>3</th>\n",
       "      <td>2020-10-06 00:00:00-04:00</td>\n",
       "      <td>112.543451</td>\n",
       "      <td>112.951998</td>\n",
       "      <td>109.187577</td>\n",
       "      <td>110.072754</td>\n",
       "      <td>161498200</td>\n",
       "      <td>0.0</td>\n",
       "      <td>0.0</td>\n",
       "    </tr>\n",
       "    <tr>\n",
       "      <th>4</th>\n",
       "      <td>2020-10-07 00:00:00-04:00</td>\n",
       "      <td>111.492912</td>\n",
       "      <td>112.397540</td>\n",
       "      <td>111.016275</td>\n",
       "      <td>111.940361</td>\n",
       "      <td>96849000</td>\n",
       "      <td>0.0</td>\n",
       "      <td>0.0</td>\n",
       "    </tr>\n",
       "  </tbody>\n",
       "</table>\n",
       "</div>"
      ],
      "text/plain": [
       "                        Date        Open        High         Low       Close  \\\n",
       "0  2020-10-01 00:00:00-04:00  114.430515  114.508334  112.669898  113.603706   \n",
       "1  2020-10-02 00:00:00-04:00  109.810111  112.222454  109.158392  109.936562   \n",
       "2  2020-10-05 00:00:00-04:00  110.802282  113.467526  110.452103  113.321617   \n",
       "3  2020-10-06 00:00:00-04:00  112.543451  112.951998  109.187577  110.072754   \n",
       "4  2020-10-07 00:00:00-04:00  111.492912  112.397540  111.016275  111.940361   \n",
       "\n",
       "      Volume  Dividends  Stock Splits  \n",
       "0  116120400        0.0           0.0  \n",
       "1  144712000        0.0           0.0  \n",
       "2  106243800        0.0           0.0  \n",
       "3  161498200        0.0           0.0  \n",
       "4   96849000        0.0           0.0  "
      ]
     },
     "execution_count": 12,
     "metadata": {},
     "output_type": "execute_result"
    }
   ],
   "source": [
    "df = pd.read_csv(\"../data/AAPL_stock_data.csv\")\n",
    "df.head()"
   ]
  },
  {
   "cell_type": "code",
   "execution_count": null,
   "id": "165c8647",
   "metadata": {},
   "outputs": [
    {
     "data": {
      "text/html": [
       "<div>\n",
       "<style scoped>\n",
       "    .dataframe tbody tr th:only-of-type {\n",
       "        vertical-align: middle;\n",
       "    }\n",
       "\n",
       "    .dataframe tbody tr th {\n",
       "        vertical-align: top;\n",
       "    }\n",
       "\n",
       "    .dataframe thead th {\n",
       "        text-align: right;\n",
       "    }\n",
       "</style>\n",
       "<table border=\"1\" class=\"dataframe\">\n",
       "  <thead>\n",
       "    <tr style=\"text-align: right;\">\n",
       "      <th></th>\n",
       "      <th>Date</th>\n",
       "      <th>Open</th>\n",
       "      <th>High</th>\n",
       "      <th>Low</th>\n",
       "      <th>Close</th>\n",
       "      <th>Volume</th>\n",
       "    </tr>\n",
       "  </thead>\n",
       "  <tbody>\n",
       "    <tr>\n",
       "      <th>0</th>\n",
       "      <td>2020-10-01</td>\n",
       "      <td>114.430515</td>\n",
       "      <td>114.508334</td>\n",
       "      <td>112.669898</td>\n",
       "      <td>113.603706</td>\n",
       "      <td>116120400</td>\n",
       "    </tr>\n",
       "    <tr>\n",
       "      <th>1</th>\n",
       "      <td>2020-10-02</td>\n",
       "      <td>109.810111</td>\n",
       "      <td>112.222454</td>\n",
       "      <td>109.158392</td>\n",
       "      <td>109.936562</td>\n",
       "      <td>144712000</td>\n",
       "    </tr>\n",
       "    <tr>\n",
       "      <th>2</th>\n",
       "      <td>2020-10-05</td>\n",
       "      <td>110.802282</td>\n",
       "      <td>113.467526</td>\n",
       "      <td>110.452103</td>\n",
       "      <td>113.321617</td>\n",
       "      <td>106243800</td>\n",
       "    </tr>\n",
       "    <tr>\n",
       "      <th>3</th>\n",
       "      <td>2020-10-06</td>\n",
       "      <td>112.543451</td>\n",
       "      <td>112.951998</td>\n",
       "      <td>109.187577</td>\n",
       "      <td>110.072754</td>\n",
       "      <td>161498200</td>\n",
       "    </tr>\n",
       "    <tr>\n",
       "      <th>4</th>\n",
       "      <td>2020-10-07</td>\n",
       "      <td>111.492912</td>\n",
       "      <td>112.397540</td>\n",
       "      <td>111.016275</td>\n",
       "      <td>111.940361</td>\n",
       "      <td>96849000</td>\n",
       "    </tr>\n",
       "  </tbody>\n",
       "</table>\n",
       "</div>"
      ],
      "text/plain": [
       "         Date        Open        High         Low       Close     Volume\n",
       "0  2020-10-01  114.430515  114.508334  112.669898  113.603706  116120400\n",
       "1  2020-10-02  109.810111  112.222454  109.158392  109.936562  144712000\n",
       "2  2020-10-05  110.802282  113.467526  110.452103  113.321617  106243800\n",
       "3  2020-10-06  112.543451  112.951998  109.187577  110.072754  161498200\n",
       "4  2020-10-07  111.492912  112.397540  111.016275  111.940361   96849000"
      ]
     },
     "execution_count": 13,
     "metadata": {},
     "output_type": "execute_result"
    }
   ],
   "source": [
    "df = df.drop(['Dividends', 'Stock Splits'], axis=1)\n",
    "# Convert to datetime and then extract just the date part\n",
    "df['Date'] = pd.to_datetime(df['Date'], utc=True).dt.strftime('%Y-%m-%d')\n",
    "df.head()"
   ]
  },
  {
   "cell_type": "code",
   "execution_count": 15,
   "id": "bb235373",
   "metadata": {},
   "outputs": [
    {
     "name": "stdout",
     "output_type": "stream",
     "text": [
      "<class 'pandas.core.frame.DataFrame'>\n",
      "RangeIndex: 1234 entries, 0 to 1233\n",
      "Data columns (total 6 columns):\n",
      " #   Column  Non-Null Count  Dtype  \n",
      "---  ------  --------------  -----  \n",
      " 0   Date    1234 non-null   object \n",
      " 1   Open    1234 non-null   float64\n",
      " 2   High    1234 non-null   float64\n",
      " 3   Low     1234 non-null   float64\n",
      " 4   Close   1234 non-null   float64\n",
      " 5   Volume  1234 non-null   int64  \n",
      "dtypes: float64(4), int64(1), object(1)\n",
      "memory usage: 58.0+ KB\n"
     ]
    }
   ],
   "source": [
    "df.info()"
   ]
  },
  {
   "cell_type": "markdown",
   "id": "1e6779d8",
   "metadata": {},
   "source": [
    "There is no missing value."
   ]
  },
  {
   "cell_type": "code",
   "execution_count": 17,
   "id": "abb8c2b2",
   "metadata": {},
   "outputs": [],
   "source": [
    "X = df.drop(['Close'], axis=1)\n",
    "y = df['Close']\n",
    "X_train, X_test, y_train, y_test = train_test_split(X, y, test_size=0.2, random_state=42)\n"
   ]
  },
  {
   "cell_type": "code",
   "execution_count": 18,
   "id": "e6d7700f",
   "metadata": {},
   "outputs": [
    {
     "name": "stdout",
     "output_type": "stream",
     "text": [
      "            Date        Open        High         Low     Volume\n",
      "0     2020-10-01  114.430515  114.508334  112.669898  116120400\n",
      "1     2020-10-02  109.810111  112.222454  109.158392  144712000\n",
      "2     2020-10-05  110.802282  113.467526  110.452103  106243800\n",
      "3     2020-10-06  112.543451  112.951998  109.187577  161498200\n",
      "4     2020-10-07  111.492912  112.397540  111.016275   96849000\n",
      "...          ...         ...         ...         ...        ...\n",
      "1229  2025-08-25  226.479996  229.300003  226.229996   30983100\n",
      "1230  2025-08-26  226.869995  229.490005  224.690002   54575100\n",
      "1231  2025-08-27  228.610001  230.899994  228.259995   31259500\n",
      "1232  2025-08-28  230.820007  233.410004  229.339996   38074700\n",
      "1233  2025-08-29  232.509995  233.380005  231.369995   39418400\n",
      "\n",
      "[1234 rows x 5 columns]\n",
      "0       113.603706\n",
      "1       109.936562\n",
      "2       113.321617\n",
      "3       110.072754\n",
      "4       111.940361\n",
      "           ...    \n",
      "1229    227.160004\n",
      "1230    229.309998\n",
      "1231    230.490005\n",
      "1232    232.559998\n",
      "1233    232.139999\n",
      "Name: Close, Length: 1234, dtype: float64\n"
     ]
    }
   ],
   "source": [
    "print(X)\n",
    "print(y)"
   ]
  },
  {
   "cell_type": "code",
   "execution_count": 19,
   "id": "797b0dcb",
   "metadata": {},
   "outputs": [
    {
     "name": "stdout",
     "output_type": "stream",
     "text": [
      "            Date        Open        High         Low    Volume\n",
      "869   2024-03-18  174.318200  176.442941  172.282813  75604200\n",
      "728   2023-08-24  178.917509  179.343346  174.302707  54945800\n",
      "803   2023-12-11  191.488808  191.865622  189.812993  60943700\n",
      "644   2023-04-25  163.141386  164.247492  161.699486  48714100\n",
      "813   2023-12-26  191.984602  192.262250  191.211152  28919300\n",
      "...          ...         ...         ...         ...       ...\n",
      "1044  2024-11-25  230.641249  232.424910  228.927332  90152800\n",
      "1095  2025-02-11  227.642796  234.655630  227.572975  53718400\n",
      "1130  2025-04-02  220.779591  224.640136  220.480320  35905900\n",
      "860   2024-03-05  169.542480  170.813352  168.410608  95132400\n",
      "1126  2025-03-27  220.849406  224.440621  220.021431  37094800\n",
      "\n",
      "[987 rows x 5 columns]\n",
      "869     172.481384\n",
      "728     174.669128\n",
      "803     191.558212\n",
      "644     161.738998\n",
      "813     191.429306\n",
      "           ...    \n",
      "1044    232.046249\n",
      "1095    232.052002\n",
      "1130    223.343307\n",
      "860     168.907043\n",
      "1126    223.303406\n",
      "Name: Close, Length: 987, dtype: float64\n",
      "           Date        Open        High         Low     Volume\n",
      "753  2023-09-29  170.351411  171.391229  168.687699   51861100\n",
      "582  2023-01-25  138.930619  140.449196  136.879545   65799300\n",
      "548  2022-12-05  145.714950  148.821137  143.742765   68826400\n",
      "113  2021-03-16  122.664585  124.147885  121.708255  115227900\n",
      "174  2021-06-11  123.684290  124.573827  123.263960   53522400\n",
      "..          ...         ...         ...         ...        ...\n",
      "31   2020-11-13  116.381851  116.605958  114.852049   81581900\n",
      "778  2023-11-03  172.549896  175.104872  171.668530   79829200\n",
      "910  2024-05-15  186.823288  189.547432  186.286402   70400000\n",
      "361  2022-03-09  158.517160  160.411756  156.485148   91454900\n",
      "523  2022-10-28  145.896972  155.052453  145.522887  164762400\n",
      "\n",
      "[247 rows x 5 columns]\n",
      "753    169.549271\n",
      "582    139.887131\n",
      "548    144.590805\n",
      "113    122.537727\n",
      "174    124.485847\n",
      "          ...    \n",
      "31     116.206459\n",
      "778    174.936508\n",
      "910    188.622818\n",
      "361    159.960190\n",
      "523    153.319809\n",
      "Name: Close, Length: 247, dtype: float64\n"
     ]
    }
   ],
   "source": [
    "print(X_train)\n",
    "print(y_train)\n",
    "print(X_test)\n",
    "print(y_test)"
   ]
  },
  {
   "cell_type": "markdown",
   "id": "bb312ec1",
   "metadata": {},
   "source": [
    "## Visualize the trends "
   ]
  },
  {
   "cell_type": "code",
   "execution_count": 14,
   "id": "a6170888",
   "metadata": {},
   "outputs": [
    {
     "data": {
      "image/png": "[encoded data removed]",
      "text/plain": [
       "<Figure size 640x480 with 1 Axes>"
      ]
     },
     "metadata": {},
     "output_type": "display_data"
    }
   ],
   "source": [
    "df['Close'].plot(title=\"Meta Stock Price (Last 5 Years)\")\n",
    "plt.xlabel(\"Date\")\n",
    "plt.ylabel(\"Close Price (USD)\")\n",
    "plt.show()"
   ]
  },
  {
   "cell_type": "markdown",
   "id": "e8cad251",
   "metadata": {},
   "source": [
    "Plot above shows that the price of the stock increases over time. "
   ]
  },
  {
   "cell_type": "markdown",
   "id": "a05242c5",
   "metadata": {},
   "source": [
    "## Model Implementation"
   ]
  },
  {
   "cell_type": "markdown",
   "id": "1cc03624",
   "metadata": {},
   "source": [
    "### Traditional statistical model "
   ]
  }
 ],
 "metadata": {
  "kernelspec": {
   "display_name": "Python 3",
   "language": "python",
   "name": "python3"
  },
  "language_info": {
   "codemirror_mode": {
    "name": "ipython",
    "version": 3
   },
   "file_extension": ".py",
   "mimetype": "text/x-python",
   "name": "python",
   "nbconvert_exporter": "python",
   "pygments_lexer": "ipython3",
   "version": "3.12.0"
  }
 },
 "nbformat": 4,
 "nbformat_minor": 5
}
